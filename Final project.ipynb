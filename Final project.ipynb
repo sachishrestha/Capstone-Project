{
    "cells": [
        {
            "cell_type": "markdown",
            "metadata": {
                "collapsed": true
            },
            "source": "# Applied Data Science Capstone"
        },
        {
            "cell_type": "markdown",
            "metadata": {},
            "source": "## 1) Introduction\n##### The purpose of this project is to compare and contrast different aspects of the placces in New York City. We will specially focus on Manhattan and Bronx. The users will be able to determine which area is better for them to move in too."
        },
        {
            "cell_type": "markdown",
            "metadata": {},
            "source": "# 2) Downloading and Prepping Data \n#### To be able to perform this data analysis, the data will be collected from NYU spatial data provider. The data is publicaly available at https://geo.nyu.edu/catalog/nyu_2451_34572\n\n"
        },
        {
            "cell_type": "markdown",
            "metadata": {},
            "source": "# 3) Methodology\n##### For this report, I use different methods.\n##### I will be using folium for data visualization and choropleth maps for visualization also.\n##### K-Means methods will also be used to cluster different aspects of the two boroughs in the New York City"
        },
        {
            "cell_type": "code",
            "execution_count": null,
            "metadata": {},
            "outputs": [],
            "source": ""
        }
    ],
    "metadata": {
        "kernelspec": {
            "display_name": "Python 3.6",
            "language": "python",
            "name": "python3"
        },
        "language_info": {
            "codemirror_mode": {
                "name": "ipython",
                "version": 3
            },
            "file_extension": ".py",
            "mimetype": "text/x-python",
            "name": "python",
            "nbconvert_exporter": "python",
            "pygments_lexer": "ipython3",
            "version": "3.6.9"
        }
    },
    "nbformat": 4,
    "nbformat_minor": 1
}